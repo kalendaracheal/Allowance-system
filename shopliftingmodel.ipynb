{
  "cells": [
    {
      "cell_type": "markdown",
      "metadata": {
        "id": "view-in-github",
        "colab_type": "text"
      },
      "source": [
        "<a href=\"https://colab.research.google.com/github/kalendaracheal/Allowance-system/blob/master/shopliftingmodel.ipynb\" target=\"_parent\"><img src=\"https://colab.research.google.com/assets/colab-badge.svg\" alt=\"Open In Colab\"/></a>"
      ]
    },
    {
      "cell_type": "markdown",
      "metadata": {
        "id": "97aa71f1"
      },
      "source": [
        "# Preparing Training Data"
      ],
      "id": "97aa71f1"
    },
    {
      "cell_type": "code",
      "execution_count": null,
      "metadata": {
        "id": "nqIfzLQoNsKZ"
      },
      "outputs": [],
      "source": [],
      "id": "nqIfzLQoNsKZ"
    },
    {
      "cell_type": "code",
      "execution_count": null,
      "metadata": {
        "colab": {
          "base_uri": "https://localhost:8080/"
        },
        "id": "mvzjR48o0_85",
        "outputId": "4d9694c1-53cb-42f1-d41b-29bdf46ce78b"
      },
      "outputs": [
        {
          "name": "stdout",
          "output_type": "stream",
          "text": [
            "['shoplifting', 'notshoplifting']\n"
          ]
        }
      ],
      "source": [
        "import numpy as np \n",
        "import pandas as pd \n",
        "import matplotlib.pyplot as plt\n",
        "import os\n",
        "\n",
        "dataset_path = os.listdir('/content/drive/MyDrive/shoplifting/training')\n",
        "\n",
        "label_types = os.listdir('/content/drive/MyDrive/shoplifting/training')\n",
        "print (label_types)  "
      ],
      "id": "mvzjR48o0_85"
    },
    {
      "cell_type": "code",
      "execution_count": null,
      "metadata": {
        "colab": {
          "base_uri": "https://localhost:8080/"
        },
        "id": "f3B3PcC6ODPq",
        "outputId": "ac8724d8-e0fe-48eb-c24c-1ceaf0335f26"
      },
      "outputs": [
        {
          "name": "stdout",
          "output_type": "stream",
          "text": [
            "Mounted at /content/drive\n"
          ]
        }
      ],
      "source": [
        "from google.colab import drive\n",
        "drive.mount('/content/drive')"
      ],
      "id": "f3B3PcC6ODPq"
    },
    {
      "cell_type": "code",
      "execution_count": null,
      "metadata": {
        "colab": {
          "base_uri": "https://localhost:8080/"
        },
        "id": "e0527c76",
        "outputId": "8ca11033-9154-4e00-9fcb-7be48204ac65",
        "scrolled": true
      },
      "outputs": [
        {
          "name": "stdout",
          "output_type": "stream",
          "text": [
            "           tag                                         video_name\n",
            "0  shoplifting  /content/drive/MyDrive/shoplifting/training/sh...\n",
            "1  shoplifting  /content/drive/MyDrive/shoplifting/training/sh...\n",
            "2  shoplifting  /content/drive/MyDrive/shoplifting/training/sh...\n",
            "3  shoplifting  /content/drive/MyDrive/shoplifting/training/sh...\n",
            "4  shoplifting  /content/drive/MyDrive/shoplifting/training/sh...\n",
            "               tag                                         video_name\n",
            "52  notshoplifting  /content/drive/MyDrive/shoplifting/training/no...\n",
            "53  notshoplifting  /content/drive/MyDrive/shoplifting/training/no...\n",
            "54  notshoplifting  /content/drive/MyDrive/shoplifting/training/no...\n",
            "55  notshoplifting  /content/drive/MyDrive/shoplifting/training/no...\n",
            "56  notshoplifting  /content/drive/MyDrive/shoplifting/training/no...\n"
          ]
        }
      ],
      "source": [
        "rooms = []\n",
        "for item in dataset_path:\n",
        " # Get all the file names\n",
        " all_rooms = os.listdir('/content/drive/MyDrive/shoplifting/training' + '/' +item)\n",
        "\n",
        " # Add them to the list\n",
        " for room in all_rooms:\n",
        "    rooms.append((item, str('/content/drive/MyDrive/shoplifting/training' + '/' +item) + '/' + room))\n",
        "    \n",
        "# Build a dataframe        \n",
        "train_df = pd.DataFrame(data=rooms, columns=['tag', 'video_name'])\n",
        "print(train_df.head())\n",
        "print(train_df.tail())\n"
      ],
      "id": "e0527c76"
    },
    {
      "cell_type": "code",
      "execution_count": null,
      "metadata": {
        "id": "SatJ0Y7x09dU"
      },
      "outputs": [],
      "source": [],
      "id": "SatJ0Y7x09dU"
    },
    {
      "cell_type": "code",
      "execution_count": null,
      "metadata": {
        "id": "1d1fde49"
      },
      "outputs": [],
      "source": [
        "df = train_df.loc[:,['video_name','tag']]\n",
        "df\n",
        "df.to_csv('train.csv')"
      ],
      "id": "1d1fde49"
    },
    {
      "cell_type": "markdown",
      "metadata": {
        "id": "4363052e"
      },
      "source": [
        "# Preparing Test Data"
      ],
      "id": "4363052e"
    },
    {
      "cell_type": "code",
      "execution_count": null,
      "metadata": {
        "colab": {
          "base_uri": "https://localhost:8080/"
        },
        "id": "5647c032",
        "outputId": "c9b1846f-46a9-4317-db11-153f3b480650"
      },
      "outputs": [
        {
          "name": "stdout",
          "output_type": "stream",
          "text": [
            "['shoplifting', 'notshoplifting']\n",
            "Types of activities found:  2\n",
            "           tag                                         video_name\n",
            "0  shoplifting  /content/drive/MyDrive/shoplifting/testing/sho...\n",
            "1  shoplifting  /content/drive/MyDrive/shoplifting/testing/sho...\n",
            "2  shoplifting  /content/drive/MyDrive/shoplifting/testing/sho...\n",
            "3  shoplifting  /content/drive/MyDrive/shoplifting/testing/sho...\n",
            "4  shoplifting  /content/drive/MyDrive/shoplifting/testing/sho...\n",
            "               tag                                         video_name\n",
            "16  notshoplifting  /content/drive/MyDrive/shoplifting/testing/not...\n",
            "17  notshoplifting  /content/drive/MyDrive/shoplifting/testing/not...\n",
            "18  notshoplifting  /content/drive/MyDrive/shoplifting/testing/not...\n",
            "19  notshoplifting  /content/drive/MyDrive/shoplifting/testing/not...\n",
            "20  notshoplifting  /content/drive/MyDrive/shoplifting/testing/not...\n"
          ]
        }
      ],
      "source": [
        "dataset_path = os.listdir('/content/drive/MyDrive/shoplifting/testing')\n",
        "print(dataset_path)\n",
        "\n",
        "room_types = os.listdir('/content/drive/MyDrive/shoplifting/testing')\n",
        "print(\"Types of activities found: \", len(dataset_path))\n",
        "\n",
        "rooms = []\n",
        "\n",
        "for item in dataset_path:\n",
        " # Get all the file names\n",
        " all_rooms = os.listdir('/content/drive/MyDrive/shoplifting/testing' + '/' +item)\n",
        "\n",
        " # Add them to the list\n",
        " for room in all_rooms:\n",
        "    rooms.append((item, str('/content/drive/MyDrive/shoplifting/testing' + '/' +item) + '/' + room))\n",
        "    \n",
        "# Build a dataframe        \n",
        "test_df = pd.DataFrame(data=rooms, columns=['tag', 'video_name'])\n",
        "print(test_df.head())\n",
        "print(test_df.tail())\n",
        "\n",
        "df = test_df.loc[:,['video_name','tag']]\n",
        "df\n",
        "df.to_csv('test.csv')"
      ],
      "id": "5647c032"
    },
    {
      "cell_type": "code",
      "execution_count": null,
      "metadata": {
        "colab": {
          "base_uri": "https://localhost:8080/"
        },
        "id": "08feb16d",
        "outputId": "af94fa4b-dc86-489b-b228-a1fdad03a855"
      },
      "outputs": [
        {
          "name": "stdout",
          "output_type": "stream",
          "text": [
            "Looking in indexes: https://pypi.org/simple, https://us-python.pkg.dev/colab-wheels/public/simple/\n",
            "Collecting git+https://github.com/tensorflow/docs\n",
            "  Cloning https://github.com/tensorflow/docs to /tmp/pip-req-build-6dcc8o4e\n",
            "  Running command git clone -q https://github.com/tensorflow/docs /tmp/pip-req-build-6dcc8o4e\n",
            "Requirement already satisfied: astor in /usr/local/lib/python3.7/dist-packages (from tensorflow-docs==0.0.0.dev0) (0.8.1)\n",
            "Requirement already satisfied: absl-py in /usr/local/lib/python3.7/dist-packages (from tensorflow-docs==0.0.0.dev0) (1.2.0)\n",
            "Requirement already satisfied: jinja2 in /usr/local/lib/python3.7/dist-packages (from tensorflow-docs==0.0.0.dev0) (2.11.3)\n",
            "Requirement already satisfied: nbformat in /usr/local/lib/python3.7/dist-packages (from tensorflow-docs==0.0.0.dev0) (5.4.0)\n",
            "Requirement already satisfied: protobuf<3.20,>=3.12.0 in /usr/local/lib/python3.7/dist-packages (from tensorflow-docs==0.0.0.dev0) (3.17.3)\n",
            "Requirement already satisfied: pyyaml in /usr/local/lib/python3.7/dist-packages (from tensorflow-docs==0.0.0.dev0) (6.0)\n",
            "Requirement already satisfied: six>=1.9 in /usr/local/lib/python3.7/dist-packages (from protobuf<3.20,>=3.12.0->tensorflow-docs==0.0.0.dev0) (1.15.0)\n",
            "Requirement already satisfied: MarkupSafe>=0.23 in /usr/local/lib/python3.7/dist-packages (from jinja2->tensorflow-docs==0.0.0.dev0) (2.0.1)\n",
            "Requirement already satisfied: traitlets>=5.1 in /usr/local/lib/python3.7/dist-packages (from nbformat->tensorflow-docs==0.0.0.dev0) (5.1.1)\n",
            "Requirement already satisfied: fastjsonschema in /usr/local/lib/python3.7/dist-packages (from nbformat->tensorflow-docs==0.0.0.dev0) (2.16.1)\n",
            "Requirement already satisfied: jsonschema>=2.6 in /usr/local/lib/python3.7/dist-packages (from nbformat->tensorflow-docs==0.0.0.dev0) (4.3.3)\n",
            "Requirement already satisfied: jupyter-core in /usr/local/lib/python3.7/dist-packages (from nbformat->tensorflow-docs==0.0.0.dev0) (4.11.1)\n",
            "Requirement already satisfied: importlib-resources>=1.4.0 in /usr/local/lib/python3.7/dist-packages (from jsonschema>=2.6->nbformat->tensorflow-docs==0.0.0.dev0) (5.9.0)\n",
            "Requirement already satisfied: attrs>=17.4.0 in /usr/local/lib/python3.7/dist-packages (from jsonschema>=2.6->nbformat->tensorflow-docs==0.0.0.dev0) (22.1.0)\n",
            "Requirement already satisfied: typing-extensions in /usr/local/lib/python3.7/dist-packages (from jsonschema>=2.6->nbformat->tensorflow-docs==0.0.0.dev0) (4.1.1)\n",
            "Requirement already satisfied: pyrsistent!=0.17.0,!=0.17.1,!=0.17.2,>=0.14.0 in /usr/local/lib/python3.7/dist-packages (from jsonschema>=2.6->nbformat->tensorflow-docs==0.0.0.dev0) (0.18.1)\n",
            "Requirement already satisfied: importlib-metadata in /usr/local/lib/python3.7/dist-packages (from jsonschema>=2.6->nbformat->tensorflow-docs==0.0.0.dev0) (4.12.0)\n",
            "Requirement already satisfied: zipp>=3.1.0 in /usr/local/lib/python3.7/dist-packages (from importlib-resources>=1.4.0->jsonschema>=2.6->nbformat->tensorflow-docs==0.0.0.dev0) (3.8.1)\n",
            "Building wheels for collected packages: tensorflow-docs\n",
            "  Building wheel for tensorflow-docs (setup.py) ... \u001b[?25l\u001b[?25hdone\n",
            "  Created wheel for tensorflow-docs: filename=tensorflow_docs-0.0.0.dev0-py3-none-any.whl size=184182 sha256=6ebc036793888f229e8fcaed21c70e8e22426b583ed88b740e66a439efe1b129\n",
            "  Stored in directory: /tmp/pip-ephem-wheel-cache-n20aok6t/wheels/cc/c4/d8/5341e93b6376c5c929c49469fce21155eb69cef1a4da4ce32c\n",
            "Successfully built tensorflow-docs\n",
            "Installing collected packages: tensorflow-docs\n",
            "Successfully installed tensorflow-docs-0.0.0.dev0\n"
          ]
        }
      ],
      "source": [
        "!pip install git+https://github.com/tensorflow/docs"
      ],
      "id": "08feb16d"
    },
    {
      "cell_type": "code",
      "execution_count": null,
      "metadata": {
        "id": "4308d857"
      },
      "outputs": [],
      "source": [
        "from tensorflow_docs.vis import embed\n",
        "from tensorflow import keras\n",
        "from imutils import paths\n",
        "\n",
        "import matplotlib.pyplot as plt\n",
        "import tensorflow as tf\n",
        "import pandas as pd\n",
        "import numpy as np\n",
        "import imageio\n",
        "import cv2\n",
        "import os"
      ],
      "id": "4308d857"
    },
    {
      "cell_type": "code",
      "execution_count": null,
      "metadata": {
        "id": "40131f0e"
      },
      "outputs": [],
      "source": [
        "gpus = tf.config.experimental.list_physical_devices('GPU')\n",
        "if gpus:\n",
        "  try:\n",
        "    tf.config.experimental.set_virtual_device_configuration(\n",
        "        gpus[0],[tf.config.experimental.VirtualDeviceConfiguration(memory_limit=5120)])\n",
        "  except RuntimeError as e:\n",
        "    print(e)"
      ],
      "id": "40131f0e"
    },
    {
      "cell_type": "markdown",
      "metadata": {
        "id": "edf22cf8"
      },
      "source": [
        "# Data preparation"
      ],
      "id": "edf22cf8"
    },
    {
      "cell_type": "code",
      "execution_count": null,
      "metadata": {
        "colab": {
          "base_uri": "https://localhost:8080/",
          "height": 398
        },
        "id": "72b24cc6",
        "outputId": "5d150889-9ed3-4d1e-abf4-a939cf1e880f"
      },
      "outputs": [
        {
          "name": "stdout",
          "output_type": "stream",
          "text": [
            "Total videos for training: 57\n",
            "Total videos for testing: 21\n"
          ]
        },
        {
          "data": {
            "text/html": [
              "\n",
              "  <div id=\"df-e4d1e708-a9c5-4cd4-96be-9172718c1ca1\">\n",
              "    <div class=\"colab-df-container\">\n",
              "      <div>\n",
              "<style scoped>\n",
              "    .dataframe tbody tr th:only-of-type {\n",
              "        vertical-align: middle;\n",
              "    }\n",
              "\n",
              "    .dataframe tbody tr th {\n",
              "        vertical-align: top;\n",
              "    }\n",
              "\n",
              "    .dataframe thead th {\n",
              "        text-align: right;\n",
              "    }\n",
              "</style>\n",
              "<table border=\"1\" class=\"dataframe\">\n",
              "  <thead>\n",
              "    <tr style=\"text-align: right;\">\n",
              "      <th></th>\n",
              "      <th>Unnamed: 0</th>\n",
              "      <th>video_name</th>\n",
              "      <th>tag</th>\n",
              "    </tr>\n",
              "  </thead>\n",
              "  <tbody>\n",
              "    <tr>\n",
              "      <th>18</th>\n",
              "      <td>18</td>\n",
              "      <td>/content/drive/MyDrive/shoplifting/training/sh...</td>\n",
              "      <td>shoplifting</td>\n",
              "    </tr>\n",
              "    <tr>\n",
              "      <th>26</th>\n",
              "      <td>26</td>\n",
              "      <td>/content/drive/MyDrive/shoplifting/training/sh...</td>\n",
              "      <td>shoplifting</td>\n",
              "    </tr>\n",
              "    <tr>\n",
              "      <th>41</th>\n",
              "      <td>41</td>\n",
              "      <td>/content/drive/MyDrive/shoplifting/training/sh...</td>\n",
              "      <td>shoplifting</td>\n",
              "    </tr>\n",
              "    <tr>\n",
              "      <th>3</th>\n",
              "      <td>3</td>\n",
              "      <td>/content/drive/MyDrive/shoplifting/training/sh...</td>\n",
              "      <td>shoplifting</td>\n",
              "    </tr>\n",
              "    <tr>\n",
              "      <th>9</th>\n",
              "      <td>9</td>\n",
              "      <td>/content/drive/MyDrive/shoplifting/training/sh...</td>\n",
              "      <td>shoplifting</td>\n",
              "    </tr>\n",
              "    <tr>\n",
              "      <th>49</th>\n",
              "      <td>49</td>\n",
              "      <td>/content/drive/MyDrive/shoplifting/training/no...</td>\n",
              "      <td>notshoplifting</td>\n",
              "    </tr>\n",
              "    <tr>\n",
              "      <th>1</th>\n",
              "      <td>1</td>\n",
              "      <td>/content/drive/MyDrive/shoplifting/training/sh...</td>\n",
              "      <td>shoplifting</td>\n",
              "    </tr>\n",
              "    <tr>\n",
              "      <th>32</th>\n",
              "      <td>32</td>\n",
              "      <td>/content/drive/MyDrive/shoplifting/training/sh...</td>\n",
              "      <td>shoplifting</td>\n",
              "    </tr>\n",
              "    <tr>\n",
              "      <th>44</th>\n",
              "      <td>44</td>\n",
              "      <td>/content/drive/MyDrive/shoplifting/training/sh...</td>\n",
              "      <td>shoplifting</td>\n",
              "    </tr>\n",
              "    <tr>\n",
              "      <th>24</th>\n",
              "      <td>24</td>\n",
              "      <td>/content/drive/MyDrive/shoplifting/training/sh...</td>\n",
              "      <td>shoplifting</td>\n",
              "    </tr>\n",
              "  </tbody>\n",
              "</table>\n",
              "</div>\n",
              "      <button class=\"colab-df-convert\" onclick=\"convertToInteractive('df-e4d1e708-a9c5-4cd4-96be-9172718c1ca1')\"\n",
              "              title=\"Convert this dataframe to an interactive table.\"\n",
              "              style=\"display:none;\">\n",
              "        \n",
              "  <svg xmlns=\"http://www.w3.org/2000/svg\" height=\"24px\"viewBox=\"0 0 24 24\"\n",
              "       width=\"24px\">\n",
              "    <path d=\"M0 0h24v24H0V0z\" fill=\"none\"/>\n",
              "    <path d=\"M18.56 5.44l.94 2.06.94-2.06 2.06-.94-2.06-.94-.94-2.06-.94 2.06-2.06.94zm-11 1L8.5 8.5l.94-2.06 2.06-.94-2.06-.94L8.5 2.5l-.94 2.06-2.06.94zm10 10l.94 2.06.94-2.06 2.06-.94-2.06-.94-.94-2.06-.94 2.06-2.06.94z\"/><path d=\"M17.41 7.96l-1.37-1.37c-.4-.4-.92-.59-1.43-.59-.52 0-1.04.2-1.43.59L10.3 9.45l-7.72 7.72c-.78.78-.78 2.05 0 2.83L4 21.41c.39.39.9.59 1.41.59.51 0 1.02-.2 1.41-.59l7.78-7.78 2.81-2.81c.8-.78.8-2.07 0-2.86zM5.41 20L4 18.59l7.72-7.72 1.47 1.35L5.41 20z\"/>\n",
              "  </svg>\n",
              "      </button>\n",
              "      \n",
              "  <style>\n",
              "    .colab-df-container {\n",
              "      display:flex;\n",
              "      flex-wrap:wrap;\n",
              "      gap: 12px;\n",
              "    }\n",
              "\n",
              "    .colab-df-convert {\n",
              "      background-color: #E8F0FE;\n",
              "      border: none;\n",
              "      border-radius: 50%;\n",
              "      cursor: pointer;\n",
              "      display: none;\n",
              "      fill: #1967D2;\n",
              "      height: 32px;\n",
              "      padding: 0 0 0 0;\n",
              "      width: 32px;\n",
              "    }\n",
              "\n",
              "    .colab-df-convert:hover {\n",
              "      background-color: #E2EBFA;\n",
              "      box-shadow: 0px 1px 2px rgba(60, 64, 67, 0.3), 0px 1px 3px 1px rgba(60, 64, 67, 0.15);\n",
              "      fill: #174EA6;\n",
              "    }\n",
              "\n",
              "    [theme=dark] .colab-df-convert {\n",
              "      background-color: #3B4455;\n",
              "      fill: #D2E3FC;\n",
              "    }\n",
              "\n",
              "    [theme=dark] .colab-df-convert:hover {\n",
              "      background-color: #434B5C;\n",
              "      box-shadow: 0px 1px 3px 1px rgba(0, 0, 0, 0.15);\n",
              "      filter: drop-shadow(0px 1px 2px rgba(0, 0, 0, 0.3));\n",
              "      fill: #FFFFFF;\n",
              "    }\n",
              "  </style>\n",
              "\n",
              "      <script>\n",
              "        const buttonEl =\n",
              "          document.querySelector('#df-e4d1e708-a9c5-4cd4-96be-9172718c1ca1 button.colab-df-convert');\n",
              "        buttonEl.style.display =\n",
              "          google.colab.kernel.accessAllowed ? 'block' : 'none';\n",
              "\n",
              "        async function convertToInteractive(key) {\n",
              "          const element = document.querySelector('#df-e4d1e708-a9c5-4cd4-96be-9172718c1ca1');\n",
              "          const dataTable =\n",
              "            await google.colab.kernel.invokeFunction('convertToInteractive',\n",
              "                                                     [key], {});\n",
              "          if (!dataTable) return;\n",
              "\n",
              "          const docLinkHtml = 'Like what you see? Visit the ' +\n",
              "            '<a target=\"_blank\" href=https://colab.research.google.com/notebooks/data_table.ipynb>data table notebook</a>'\n",
              "            + ' to learn more about interactive tables.';\n",
              "          element.innerHTML = '';\n",
              "          dataTable['output_type'] = 'display_data';\n",
              "          await google.colab.output.renderOutput(dataTable, element);\n",
              "          const docLink = document.createElement('div');\n",
              "          docLink.innerHTML = docLinkHtml;\n",
              "          element.appendChild(docLink);\n",
              "        }\n",
              "      </script>\n",
              "    </div>\n",
              "  </div>\n",
              "  "
            ],
            "text/plain": [
              "    Unnamed: 0                                         video_name  \\\n",
              "18          18  /content/drive/MyDrive/shoplifting/training/sh...   \n",
              "26          26  /content/drive/MyDrive/shoplifting/training/sh...   \n",
              "41          41  /content/drive/MyDrive/shoplifting/training/sh...   \n",
              "3            3  /content/drive/MyDrive/shoplifting/training/sh...   \n",
              "9            9  /content/drive/MyDrive/shoplifting/training/sh...   \n",
              "49          49  /content/drive/MyDrive/shoplifting/training/no...   \n",
              "1            1  /content/drive/MyDrive/shoplifting/training/sh...   \n",
              "32          32  /content/drive/MyDrive/shoplifting/training/sh...   \n",
              "44          44  /content/drive/MyDrive/shoplifting/training/sh...   \n",
              "24          24  /content/drive/MyDrive/shoplifting/training/sh...   \n",
              "\n",
              "               tag  \n",
              "18     shoplifting  \n",
              "26     shoplifting  \n",
              "41     shoplifting  \n",
              "3      shoplifting  \n",
              "9      shoplifting  \n",
              "49  notshoplifting  \n",
              "1      shoplifting  \n",
              "32     shoplifting  \n",
              "44     shoplifting  \n",
              "24     shoplifting  "
            ]
          },
          "execution_count": 9,
          "metadata": {},
          "output_type": "execute_result"
        }
      ],
      "source": [
        "train_df = pd.read_csv(\"train.csv\")\n",
        "test_df = pd.read_csv(\"test.csv\")\n",
        "\n",
        "print(f\"Total videos for training: {len(train_df)}\")\n",
        "print(f\"Total videos for testing: {len(test_df)}\")\n",
        "\n",
        "\n",
        "train_df.sample(10)"
      ],
      "id": "72b24cc6"
    },
    {
      "cell_type": "markdown",
      "metadata": {
        "id": "218101c3"
      },
      "source": [
        "# Feed the videos to a network:"
      ],
      "id": "218101c3"
    },
    {
      "cell_type": "code",
      "execution_count": null,
      "metadata": {
        "id": "5c757e6b"
      },
      "outputs": [],
      "source": [
        "# The following two methods are taken from this tutorial:\n",
        "# https://www.tensorflow.org/hub/tutorials/action_recognition_with_tf_hub\n",
        "IMG_SIZE = 224\n",
        "\n",
        "\n",
        "def crop_center_square(frame):\n",
        "    y, x = frame.shape[0:2]\n",
        "    min_dim = min(y, x)\n",
        "    start_x = (x // 2) - (min_dim // 2)\n",
        "    start_y = (y // 2) - (min_dim // 2)\n",
        "    return frame[start_y : start_y + min_dim, start_x : start_x + min_dim]\n",
        "\n",
        "\n",
        "def load_video(path, max_frames=0, resize=(IMG_SIZE, IMG_SIZE)):\n",
        "    cap = cv2.VideoCapture(path)\n",
        "    frames = []\n",
        "    try:\n",
        "        while True:\n",
        "            ret, frame = cap.read()\n",
        "            if not ret:\n",
        "                break\n",
        "            frame = crop_center_square(frame)\n",
        "            frame = cv2.resize(frame, resize)\n",
        "            frame = frame[:, :, [2, 1, 0]]\n",
        "            frames.append(frame)\n",
        "\n",
        "            if len(frames) == max_frames:\n",
        "                break\n",
        "    finally:\n",
        "        cap.release()\n",
        "    return np.array(frames)\n"
      ],
      "id": "5c757e6b"
    },
    {
      "cell_type": "markdown",
      "metadata": {
        "id": "3ec88cd5"
      },
      "source": [
        "# Feature Extraction"
      ],
      "id": "3ec88cd5"
    },
    {
      "cell_type": "code",
      "execution_count": null,
      "metadata": {
        "colab": {
          "base_uri": "https://localhost:8080/"
        },
        "id": "d70513c4",
        "outputId": "8fbee122-7182-4155-d13e-6d61fb97c29b"
      },
      "outputs": [
        {
          "name": "stdout",
          "output_type": "stream",
          "text": [
            "Downloading data from https://storage.googleapis.com/tensorflow/keras-applications/inception_v3/inception_v3_weights_tf_dim_ordering_tf_kernels_notop.h5\n",
            "87916544/87910968 [==============================] - 0s 0us/step\n",
            "87924736/87910968 [==============================] - 0s 0us/step\n"
          ]
        }
      ],
      "source": [
        "def build_feature_extractor():\n",
        "    feature_extractor = keras.applications.InceptionV3(\n",
        "        weights=\"imagenet\",\n",
        "        include_top=False,\n",
        "        pooling=\"avg\",\n",
        "        input_shape=(IMG_SIZE, IMG_SIZE, 3),\n",
        "    )\n",
        "    preprocess_input = keras.applications.inception_v3.preprocess_input\n",
        "\n",
        "    inputs = keras.Input((IMG_SIZE, IMG_SIZE, 3))\n",
        "    preprocessed = preprocess_input(inputs)\n",
        "\n",
        "    outputs = feature_extractor(preprocessed)\n",
        "    return keras.Model(inputs, outputs, name=\"feature_extractor\")\n",
        "\n",
        "\n",
        "feature_extractor = build_feature_extractor()"
      ],
      "id": "d70513c4"
    },
    {
      "cell_type": "code",
      "execution_count": null,
      "metadata": {
        "id": "f970f89d"
      },
      "outputs": [],
      "source": [],
      "id": "f970f89d"
    },
    {
      "cell_type": "markdown",
      "metadata": {
        "id": "aY5AyPC73civ"
      },
      "source": [
        "Label Encoding\n",
        "# StringLookup layer encode the class labels as integers."
      ],
      "id": "aY5AyPC73civ"
    },
    {
      "cell_type": "code",
      "execution_count": null,
      "metadata": {
        "colab": {
          "base_uri": "https://localhost:8080/"
        },
        "id": "XnVgRsCO5zo2",
        "outputId": "8235de8f-8cb1-42e3-fe4f-32c00e412521"
      },
      "outputs": [
        {
          "name": "stdout",
          "output_type": "stream",
          "text": [
            "['notshoplifting', 'shoplifting']\n"
          ]
        },
        {
          "data": {
            "text/plain": [
              "array([[1],\n",
              "       [1],\n",
              "       [1],\n",
              "       [1],\n",
              "       [1],\n",
              "       [1],\n",
              "       [1],\n",
              "       [1],\n",
              "       [1],\n",
              "       [1],\n",
              "       [1],\n",
              "       [1],\n",
              "       [1],\n",
              "       [1],\n",
              "       [1],\n",
              "       [1],\n",
              "       [1],\n",
              "       [1],\n",
              "       [1],\n",
              "       [1],\n",
              "       [1],\n",
              "       [1],\n",
              "       [1],\n",
              "       [1],\n",
              "       [1],\n",
              "       [1],\n",
              "       [1],\n",
              "       [1],\n",
              "       [1],\n",
              "       [1],\n",
              "       [1],\n",
              "       [1],\n",
              "       [1],\n",
              "       [1],\n",
              "       [1],\n",
              "       [1],\n",
              "       [1],\n",
              "       [1],\n",
              "       [1],\n",
              "       [1],\n",
              "       [1],\n",
              "       [1],\n",
              "       [1],\n",
              "       [1],\n",
              "       [1],\n",
              "       [1],\n",
              "       [1],\n",
              "       [1],\n",
              "       [1],\n",
              "       [0],\n",
              "       [0],\n",
              "       [0],\n",
              "       [0],\n",
              "       [0],\n",
              "       [0],\n",
              "       [0],\n",
              "       [0]])"
            ]
          },
          "execution_count": 12,
          "metadata": {},
          "output_type": "execute_result"
        }
      ],
      "source": [
        "label_processor = keras.layers.StringLookup(num_oov_indices=0, vocabulary=np.unique(train_df[\"tag\"]))\n",
        "print(label_processor.get_vocabulary())\n",
        "\n",
        "labels = train_df[\"tag\"].values\n",
        "labels = label_processor(labels[..., None]).numpy()\n",
        "labels"
      ],
      "id": "XnVgRsCO5zo2"
    },
    {
      "cell_type": "code",
      "execution_count": null,
      "metadata": {
        "id": "JCafKgak5zsa"
      },
      "outputs": [],
      "source": [],
      "id": "JCafKgak5zsa"
    },
    {
      "cell_type": "markdown",
      "metadata": {
        "id": "gkg_fjzL8Pe_"
      },
      "source": [
        "# Finally, we can put all the pieces together to create our data processing utility.**bold text**"
      ],
      "id": "gkg_fjzL8Pe_"
    },
    {
      "cell_type": "code",
      "execution_count": null,
      "metadata": {
        "id": "Xfc-0FQz5zva"
      },
      "outputs": [],
      "source": [
        "#Define hyperparameters\n",
        "\n",
        "IMG_SIZE = 224\n",
        "BATCH_SIZE = 64\n",
        "EPOCHS = 100\n",
        "\n",
        "MAX_SEQ_LENGTH = 20\n",
        "NUM_FEATURES = 2048"
      ],
      "id": "Xfc-0FQz5zva"
    },
    {
      "cell_type": "code",
      "execution_count": null,
      "metadata": {
        "colab": {
          "background_save": true
        },
        "id": "m9A-t8p35zyE",
        "outputId": "ebed1f74-c7d4-472c-a432-3d1a47f9ef2f"
      },
      "outputs": [
        {
          "name": "stdout",
          "output_type": "stream",
          "text": [
            "Frame features in train set: (57, 20, 2048)\n",
            "Frame masks in train set: (57, 20)\n",
            "train_labels in train set: (57, 1)\n",
            "test_labels in train set: (21, 1)\n"
          ]
        }
      ],
      "source": [
        "def prepare_all_videos(df, root_dir):\n",
        "    num_samples = len(df)\n",
        "    video_paths = df[\"video_name\"].values.tolist()\n",
        "    \n",
        "    ##take all classlabels from train_df column named 'tag' and store in labels\n",
        "    labels = df[\"tag\"].values\n",
        "    \n",
        "    #convert classlabels to label encoding\n",
        "    labels = label_processor(labels[..., None]).numpy()\n",
        "\n",
        "    # `frame_masks` and `frame_features` are what we will feed to our sequence model.\n",
        "    # `frame_masks` will contain a bunch of booleans denoting if a timestep is\n",
        "    # masked with padding or not.\n",
        "    frame_masks = np.zeros(shape=(num_samples, MAX_SEQ_LENGTH), dtype=\"bool\") # 145,20\n",
        "    frame_features = np.zeros(shape=(num_samples, MAX_SEQ_LENGTH, NUM_FEATURES), dtype=\"float32\") #145,20,2048\n",
        "\n",
        "    # For each video.\n",
        "    for idx, path in enumerate(video_paths):\n",
        "        # Gather all its frames and add a batch dimension.\n",
        "        frames = load_video(os.path.join(root_dir, path))\n",
        "        frames = frames[None, ...]\n",
        "\n",
        "        # Initialize placeholders to store the masks and features of the current video.\n",
        "        temp_frame_mask = np.zeros(shape=(1, MAX_SEQ_LENGTH,), dtype=\"bool\")\n",
        "        temp_frame_features = np.zeros(\n",
        "            shape=(1, MAX_SEQ_LENGTH, NUM_FEATURES), dtype=\"float32\"\n",
        "        )\n",
        "\n",
        "        # Extract features from the frames of the current video.\n",
        "        for i, batch in enumerate(frames):\n",
        "            video_length = batch.shape[0]\n",
        "            length = min(MAX_SEQ_LENGTH, video_length)\n",
        "            for j in range(length):\n",
        "                temp_frame_features[i, j, :] = feature_extractor.predict(\n",
        "                    batch[None, j, :]\n",
        "                )\n",
        "            temp_frame_mask[i, :length] = 1  # 1 = not masked, 0 = masked\n",
        "\n",
        "        frame_features[idx,] = temp_frame_features.squeeze()\n",
        "        frame_masks[idx,] = temp_frame_mask.squeeze()\n",
        "\n",
        "    return (frame_features, frame_masks), labels\n",
        "\n",
        "\n",
        "train_data, train_labels = prepare_all_videos(train_df, \"train\")\n",
        "test_data, test_labels = prepare_all_videos(test_df, \"test\")\n",
        "\n",
        "print(f\"Frame features in train set: {train_data[0].shape}\")\n",
        "print(f\"Frame masks in train set: {train_data[1].shape}\")\n",
        "\n",
        "\n",
        "\n",
        "print(f\"train_labels in train set: {train_labels.shape}\")\n",
        "\n",
        "print(f\"test_labels in train set: {test_labels.shape}\")\n",
        "\n",
        "# MAX_SEQ_LENGTH = 20, NUM_FEATURES = 2048. We have defined this above under hyper parameters\n"
      ],
      "id": "m9A-t8p35zyE"
    },
    {
      "cell_type": "code",
      "execution_count": null,
      "metadata": {
        "id": "OKB1qKhq5z1B"
      },
      "outputs": [],
      "source": [],
      "id": "OKB1qKhq5z1B"
    },
    {
      "cell_type": "markdown",
      "metadata": {
        "id": "G8jdsEpx-sMo"
      },
      "source": [
        "## The sequence model\n",
        "# Now, we can feed this data to a sequence model consisting of recurrent layers like GRU."
      ],
      "id": "G8jdsEpx-sMo"
    },
    {
      "cell_type": "code",
      "execution_count": null,
      "metadata": {
        "colab": {
          "background_save": true,
          "base_uri": "https://localhost:8080/"
        },
        "id": "7Cu_TvZQ5z33",
        "outputId": "c0cebf90-7ad1-4cc7-cf81-86e60db6f37a"
      },
      "outputs": [
        {
          "name": "stdout",
          "output_type": "stream",
          "text": [
            "Epoch 1/30\n",
            "1/2 [==============>...............] - ETA: 8s - loss: 0.6167 - accuracy: 0.7188\n",
            "Epoch 1: val_loss improved from inf to 0.73148, saving model to ./tmp/video_classifier\n",
            "2/2 [==============================] - 11s 2s/step - loss: 0.5794 - accuracy: 0.7692 - val_loss: 0.7315 - val_accuracy: 0.5556\n",
            "Epoch 2/30\n",
            "1/2 [==============>...............] - ETA: 0s - loss: 0.4416 - accuracy: 0.9062\n",
            "Epoch 2: val_loss did not improve from 0.73148\n",
            "2/2 [==============================] - 0s 45ms/step - loss: 0.4278 - accuracy: 0.9231 - val_loss: 0.7530 - val_accuracy: 0.5556\n",
            "Epoch 3/30\n",
            "1/2 [==============>...............] - ETA: 0s - loss: 0.3764 - accuracy: 0.9688\n",
            "Epoch 3: val_loss did not improve from 0.73148\n",
            "2/2 [==============================] - 0s 39ms/step - loss: 0.3822 - accuracy: 0.9744 - val_loss: 0.7614 - val_accuracy: 0.5556\n",
            "Epoch 4/30\n",
            "1/2 [==============>...............] - ETA: 0s - loss: 0.3854 - accuracy: 0.9688\n",
            "Epoch 4: val_loss did not improve from 0.73148\n",
            "2/2 [==============================] - 0s 39ms/step - loss: 0.3748 - accuracy: 0.9744 - val_loss: 0.7723 - val_accuracy: 0.5556\n",
            "Epoch 5/30\n",
            "1/2 [==============>...............] - ETA: 0s - loss: 0.3410 - accuracy: 0.9688\n",
            "Epoch 5: val_loss did not improve from 0.73148\n",
            "2/2 [==============================] - 0s 40ms/step - loss: 0.3226 - accuracy: 0.9744 - val_loss: 0.7821 - val_accuracy: 0.5556\n",
            "Epoch 6/30\n",
            "1/2 [==============>...............] - ETA: 0s - loss: 0.4143 - accuracy: 0.8750\n",
            "Epoch 6: val_loss did not improve from 0.73148\n",
            "2/2 [==============================] - 0s 52ms/step - loss: 0.4127 - accuracy: 0.8718 - val_loss: 0.8038 - val_accuracy: 0.5556\n",
            "Epoch 7/30\n",
            "1/2 [==============>...............] - ETA: 0s - loss: 0.3093 - accuracy: 0.9688\n",
            "Epoch 7: val_loss did not improve from 0.73148\n",
            "2/2 [==============================] - 0s 44ms/step - loss: 0.3046 - accuracy: 0.9744 - val_loss: 0.8248 - val_accuracy: 0.5556\n",
            "Epoch 8/30\n",
            "1/2 [==============>...............] - ETA: 0s - loss: 0.2586 - accuracy: 0.9688\n",
            "Epoch 8: val_loss did not improve from 0.73148\n",
            "2/2 [==============================] - 0s 43ms/step - loss: 0.2507 - accuracy: 0.9744 - val_loss: 0.8387 - val_accuracy: 0.5556\n",
            "Epoch 9/30\n",
            "1/2 [==============>...............] - ETA: 0s - loss: 0.2294 - accuracy: 1.0000\n",
            "Epoch 9: val_loss did not improve from 0.73148\n",
            "2/2 [==============================] - 0s 55ms/step - loss: 0.2464 - accuracy: 1.0000 - val_loss: 0.8531 - val_accuracy: 0.5556\n",
            "Epoch 10/30\n",
            "1/2 [==============>...............] - ETA: 0s - loss: 0.2850 - accuracy: 0.9375\n",
            "Epoch 10: val_loss did not improve from 0.73148\n",
            "2/2 [==============================] - 0s 38ms/step - loss: 0.2650 - accuracy: 0.9487 - val_loss: 0.8678 - val_accuracy: 0.5556\n",
            "Epoch 11/30\n",
            "1/2 [==============>...............] - ETA: 0s - loss: 0.2456 - accuracy: 1.0000\n",
            "Epoch 11: val_loss did not improve from 0.73148\n",
            "2/2 [==============================] - 0s 41ms/step - loss: 0.2420 - accuracy: 1.0000 - val_loss: 0.8855 - val_accuracy: 0.5556\n",
            "Epoch 12/30\n",
            "1/2 [==============>...............] - ETA: 0s - loss: 0.2633 - accuracy: 0.9688\n",
            "Epoch 12: val_loss did not improve from 0.73148\n",
            "2/2 [==============================] - 0s 38ms/step - loss: 0.2529 - accuracy: 0.9744 - val_loss: 0.9066 - val_accuracy: 0.5556\n",
            "Epoch 13/30\n",
            "1/2 [==============>...............] - ETA: 0s - loss: 0.2324 - accuracy: 1.0000\n",
            "Epoch 13: val_loss did not improve from 0.73148\n",
            "2/2 [==============================] - 0s 44ms/step - loss: 0.2292 - accuracy: 1.0000 - val_loss: 0.9274 - val_accuracy: 0.5556\n",
            "Epoch 14/30\n",
            "1/2 [==============>...............] - ETA: 0s - loss: 0.2112 - accuracy: 1.0000\n",
            "Epoch 14: val_loss did not improve from 0.73148\n",
            "2/2 [==============================] - 0s 44ms/step - loss: 0.2050 - accuracy: 1.0000 - val_loss: 0.9417 - val_accuracy: 0.5556\n",
            "Epoch 15/30\n",
            "1/2 [==============>...............] - ETA: 0s - loss: 0.1946 - accuracy: 1.0000\n",
            "Epoch 15: val_loss did not improve from 0.73148\n",
            "2/2 [==============================] - 0s 41ms/step - loss: 0.1958 - accuracy: 0.9744 - val_loss: 0.9539 - val_accuracy: 0.5556\n",
            "Epoch 16/30\n",
            "1/2 [==============>...............] - ETA: 0s - loss: 0.2289 - accuracy: 0.9688\n",
            "Epoch 16: val_loss did not improve from 0.73148\n",
            "2/2 [==============================] - 0s 40ms/step - loss: 0.2197 - accuracy: 0.9744 - val_loss: 0.9660 - val_accuracy: 0.5556\n",
            "Epoch 17/30\n",
            "1/2 [==============>...............] - ETA: 0s - loss: 0.1821 - accuracy: 1.0000\n",
            "Epoch 17: val_loss did not improve from 0.73148\n",
            "2/2 [==============================] - 0s 37ms/step - loss: 0.1850 - accuracy: 1.0000 - val_loss: 0.9779 - val_accuracy: 0.5556\n",
            "Epoch 18/30\n",
            "1/2 [==============>...............] - ETA: 0s - loss: 0.2440 - accuracy: 1.0000\n",
            "Epoch 18: val_loss did not improve from 0.73148\n",
            "2/2 [==============================] - 0s 37ms/step - loss: 0.2370 - accuracy: 1.0000 - val_loss: 0.9897 - val_accuracy: 0.5556\n",
            "Epoch 19/30\n",
            "1/2 [==============>...............] - ETA: 0s - loss: 0.1860 - accuracy: 1.0000\n",
            "Epoch 19: val_loss did not improve from 0.73148\n",
            "2/2 [==============================] - 0s 37ms/step - loss: 0.1816 - accuracy: 1.0000 - val_loss: 1.0015 - val_accuracy: 0.5556\n",
            "Epoch 20/30\n",
            "1/2 [==============>...............] - ETA: 0s - loss: 0.1884 - accuracy: 1.0000\n",
            "Epoch 20: val_loss did not improve from 0.73148\n",
            "2/2 [==============================] - 0s 55ms/step - loss: 0.1773 - accuracy: 1.0000 - val_loss: 1.0139 - val_accuracy: 0.5556\n",
            "Epoch 21/30\n",
            "1/2 [==============>...............] - ETA: 0s - loss: 0.1702 - accuracy: 1.0000\n",
            "Epoch 21: val_loss did not improve from 0.73148\n",
            "2/2 [==============================] - 0s 38ms/step - loss: 0.1640 - accuracy: 1.0000 - val_loss: 1.0257 - val_accuracy: 0.5556\n",
            "Epoch 22/30\n",
            "1/2 [==============>...............] - ETA: 0s - loss: 0.1827 - accuracy: 1.0000\n",
            "Epoch 22: val_loss did not improve from 0.73148\n",
            "2/2 [==============================] - 0s 42ms/step - loss: 0.1793 - accuracy: 1.0000 - val_loss: 1.0371 - val_accuracy: 0.5556\n",
            "Epoch 23/30\n",
            "1/2 [==============>...............] - ETA: 0s - loss: 0.1672 - accuracy: 1.0000\n",
            "Epoch 23: val_loss did not improve from 0.73148\n",
            "2/2 [==============================] - 0s 40ms/step - loss: 0.1714 - accuracy: 1.0000 - val_loss: 1.0484 - val_accuracy: 0.5556\n",
            "Epoch 24/30\n",
            "1/2 [==============>...............] - ETA: 0s - loss: 0.1439 - accuracy: 1.0000\n",
            "Epoch 24: val_loss did not improve from 0.73148\n",
            "2/2 [==============================] - 0s 48ms/step - loss: 0.1365 - accuracy: 1.0000 - val_loss: 1.0595 - val_accuracy: 0.5556\n",
            "Epoch 25/30\n",
            "1/2 [==============>...............] - ETA: 0s - loss: 0.1666 - accuracy: 1.0000\n",
            "Epoch 25: val_loss did not improve from 0.73148\n",
            "2/2 [==============================] - 0s 43ms/step - loss: 0.1517 - accuracy: 1.0000 - val_loss: 1.0709 - val_accuracy: 0.5556\n",
            "Epoch 26/30\n",
            "1/2 [==============>...............] - ETA: 0s - loss: 0.1458 - accuracy: 1.0000\n",
            "Epoch 26: val_loss did not improve from 0.73148\n",
            "2/2 [==============================] - 0s 42ms/step - loss: 0.1457 - accuracy: 1.0000 - val_loss: 1.0824 - val_accuracy: 0.5556\n",
            "Epoch 27/30\n",
            "1/2 [==============>...............] - ETA: 0s - loss: 0.1525 - accuracy: 1.0000\n",
            "Epoch 27: val_loss did not improve from 0.73148\n",
            "2/2 [==============================] - 0s 42ms/step - loss: 0.1495 - accuracy: 1.0000 - val_loss: 1.0941 - val_accuracy: 0.5556\n",
            "Epoch 28/30\n",
            "1/2 [==============>...............] - ETA: 0s - loss: 0.1217 - accuracy: 1.0000\n",
            "Epoch 28: val_loss did not improve from 0.73148\n",
            "2/2 [==============================] - 0s 53ms/step - loss: 0.1237 - accuracy: 1.0000 - val_loss: 1.1059 - val_accuracy: 0.5556\n",
            "Epoch 29/30\n",
            "1/2 [==============>...............] - ETA: 0s - loss: 0.1236 - accuracy: 1.0000\n",
            "Epoch 29: val_loss did not improve from 0.73148\n",
            "2/2 [==============================] - 0s 41ms/step - loss: 0.1166 - accuracy: 1.0000 - val_loss: 1.1177 - val_accuracy: 0.5556\n",
            "Epoch 30/30\n",
            "1/2 [==============>...............] - ETA: 0s - loss: 0.1139 - accuracy: 1.0000\n",
            "Epoch 30: val_loss did not improve from 0.73148\n",
            "2/2 [==============================] - 0s 42ms/step - loss: 0.1058 - accuracy: 1.0000 - val_loss: 1.1294 - val_accuracy: 0.5556\n",
            "1/1 [==============================] - 0s 27ms/step - loss: 0.7457 - accuracy: 0.5238\n",
            "Test accuracy: 52.38%\n"
          ]
        }
      ],
      "source": [
        "# Utility for our sequence model.\n",
        "def get_sequence_model():\n",
        "    class_vocab = label_processor.get_vocabulary()\n",
        "\n",
        "    frame_features_input = keras.Input((MAX_SEQ_LENGTH, NUM_FEATURES))\n",
        "    mask_input = keras.Input((MAX_SEQ_LENGTH,), dtype=\"bool\")\n",
        "\n",
        "    # Refer to the following tutorial to understand the significance of using `mask`:\n",
        "    # https://keras.io/api/layers/recurrent_layers/gru/\n",
        "    x = keras.layers.GRU(16, return_sequences=True)(frame_features_input, mask=mask_input)\n",
        "    x = keras.layers.GRU(8)(x)\n",
        "    x = keras.layers.Dropout(0.4)(x)\n",
        "    x = keras.layers.Dense(8, activation=\"relu\")(x)\n",
        "    output = keras.layers.Dense(len(class_vocab), activation=\"softmax\")(x)\n",
        "\n",
        "    rnn_model = keras.Model([frame_features_input, mask_input], output)\n",
        "\n",
        "    rnn_model.compile(\n",
        "        loss=\"sparse_categorical_crossentropy\", optimizer=\"adam\", metrics=[\"accuracy\"]\n",
        "    )\n",
        "    return rnn_model\n",
        "\n",
        "EPOCHS = 30\n",
        "# Utility for running experiments.\n",
        "def run_experiment():\n",
        "    filepath = \"./tmp/video_classifier\"\n",
        "    checkpoint = keras.callbacks.ModelCheckpoint(\n",
        "        filepath, save_weights_only=True, save_best_only=True, verbose=1\n",
        "    )\n",
        "\n",
        "    seq_model = get_sequence_model()\n",
        "    history = seq_model.fit(\n",
        "        [train_data[0], train_data[1]],\n",
        "        train_labels,\n",
        "        validation_split=0.3,\n",
        "        epochs=EPOCHS,\n",
        "        callbacks=[checkpoint],\n",
        "    )\n",
        "\n",
        "    seq_model.load_weights(filepath)\n",
        "    _, accuracy = seq_model.evaluate([test_data[0], test_data[1]], test_labels)\n",
        "\n",
        "    print(f\"Test accuracy: {round(accuracy * 100, 2)}%\")\n",
        "\n",
        "    return history, seq_model\n",
        "\n",
        "\n",
        "_, sequence_model = run_experiment()"
      ],
      "id": "7Cu_TvZQ5z33"
    },
    {
      "cell_type": "code",
      "execution_count": null,
      "metadata": {
        "id": "faRtX3Uf5z6P"
      },
      "outputs": [],
      "source": [],
      "id": "faRtX3Uf5z6P"
    },
    {
      "cell_type": "markdown",
      "metadata": {
        "id": "gMVHBjEIAcZg"
      },
      "source": [
        "# **Inference**"
      ],
      "id": "gMVHBjEIAcZg"
    },
    {
      "cell_type": "code",
      "execution_count": null,
      "metadata": {
        "id": "gxnKeiUB5z80"
      },
      "outputs": [],
      "source": [
        "def prepare_single_video(frames):\n",
        "    frames = frames[None, ...]\n",
        "    frame_mask = np.zeros(shape=(1, MAX_SEQ_LENGTH,), dtype=\"bool\")\n",
        "    frame_features = np.zeros(shape=(1, MAX_SEQ_LENGTH, NUM_FEATURES), dtype=\"float32\")\n",
        "\n",
        "    for i, batch in enumerate(frames):\n",
        "        video_length = batch.shape[0]\n",
        "        length = min(MAX_SEQ_LENGTH, video_length)\n",
        "        for j in range(length):\n",
        "            frame_features[i, j, :] = feature_extractor.predict(batch[None, j, :])\n",
        "        frame_mask[i, :length] = 1  # 1 = not masked, 0 = masked\n",
        "\n",
        "    return frame_features, frame_mask\n",
        "\n",
        "\n",
        "def sequence_prediction(path):\n",
        "    class_vocab = label_processor.get_vocabulary()\n",
        "\n",
        "    frames = load_video(os.path.join(\"test\", path))\n",
        "    frame_features, frame_mask = prepare_single_video(frames)\n",
        "    probabilities = sequence_model.predict([frame_features, frame_mask])[0]\n",
        "\n",
        "    for i in np.argsort(probabilities)[::-1]:\n",
        "        print(f\"  {class_vocab[i]}: {probabilities[i] * 100:5.2f}%\")\n",
        "    return frames\n",
        "\n",
        "test_video = np.random.choice(test_df[\"video_name\"].values.tolist())\n",
        "print(f\"Test video path: {test_video}\")\n",
        "\n",
        "test_frames = sequence_prediction(test_video)\n"
      ],
      "id": "gxnKeiUB5z80"
    },
    {
      "cell_type": "code",
      "execution_count": null,
      "metadata": {
        "colab": {
          "base_uri": "https://localhost:8080/",
          "height": 946
        },
        "id": "X4OgudI85z_h",
        "outputId": "13168b14-f6e1-49af-ffcc-fe01f570ed28"
      },
      "outputs": [
        {
          "name": "stdout",
          "output_type": "stream",
          "text": [
            "Looking in indexes: https://pypi.org/simple, https://us-python.pkg.dev/colab-wheels/public/simple/\n",
            "Collecting kora\n",
            "  Downloading kora-0.9.20-py3-none-any.whl (57 kB)\n",
            "\u001b[K     |████████████████████████████████| 57 kB 5.7 MB/s \n",
            "\u001b[?25hRequirement already satisfied: ipython in /usr/local/lib/python3.7/dist-packages (from kora) (7.9.0)\n",
            "Requirement already satisfied: fastcore in /usr/local/lib/python3.7/dist-packages (from kora) (1.5.25)\n",
            "Requirement already satisfied: packaging in /usr/local/lib/python3.7/dist-packages (from fastcore->kora) (21.3)\n",
            "Requirement already satisfied: pip in /usr/local/lib/python3.7/dist-packages (from fastcore->kora) (21.1.3)\n",
            "Collecting jedi>=0.10\n",
            "  Downloading jedi-0.18.1-py2.py3-none-any.whl (1.6 MB)\n",
            "\u001b[K     |████████████████████████████████| 1.6 MB 54.9 MB/s \n",
            "\u001b[?25hRequirement already satisfied: pickleshare in /usr/local/lib/python3.7/dist-packages (from ipython->kora) (0.7.5)\n",
            "Requirement already satisfied: decorator in /usr/local/lib/python3.7/dist-packages (from ipython->kora) (4.4.2)\n",
            "Requirement already satisfied: pexpect in /usr/local/lib/python3.7/dist-packages (from ipython->kora) (4.8.0)\n",
            "Requirement already satisfied: traitlets>=4.2 in /usr/local/lib/python3.7/dist-packages (from ipython->kora) (5.1.1)\n",
            "Requirement already satisfied: setuptools>=18.5 in /usr/local/lib/python3.7/dist-packages (from ipython->kora) (57.4.0)\n",
            "Requirement already satisfied: pygments in /usr/local/lib/python3.7/dist-packages (from ipython->kora) (2.6.1)\n",
            "Requirement already satisfied: backcall in /usr/local/lib/python3.7/dist-packages (from ipython->kora) (0.2.0)\n",
            "Requirement already satisfied: prompt-toolkit<2.1.0,>=2.0.0 in /usr/local/lib/python3.7/dist-packages (from ipython->kora) (2.0.10)\n",
            "Requirement already satisfied: parso<0.9.0,>=0.8.0 in /usr/local/lib/python3.7/dist-packages (from jedi>=0.10->ipython->kora) (0.8.3)\n",
            "Requirement already satisfied: wcwidth in /usr/local/lib/python3.7/dist-packages (from prompt-toolkit<2.1.0,>=2.0.0->ipython->kora) (0.2.5)\n",
            "Requirement already satisfied: six>=1.9.0 in /usr/local/lib/python3.7/dist-packages (from prompt-toolkit<2.1.0,>=2.0.0->ipython->kora) (1.15.0)\n",
            "Requirement already satisfied: pyparsing!=3.0.5,>=2.0.2 in /usr/local/lib/python3.7/dist-packages (from packaging->fastcore->kora) (3.0.9)\n",
            "Requirement already satisfied: ptyprocess>=0.5 in /usr/local/lib/python3.7/dist-packages (from pexpect->ipython->kora) (0.7.0)\n",
            "Installing collected packages: jedi, kora\n",
            "Successfully installed jedi-0.18.1 kora-0.9.20\n"
          ]
        },
        {
          "ename": "FileNotFoundError",
          "evalue": "ignored",
          "output_type": "error",
          "traceback": [
            "\u001b[0;31m---------------------------------------------------------------------------\u001b[0m",
            "\u001b[0;31mFileNotFoundError\u001b[0m                         Traceback (most recent call last)",
            "\u001b[0;32m<ipython-input-2-fac64a76d565>\u001b[0m in \u001b[0;36m<module>\u001b[0;34m\u001b[0m\n\u001b[1;32m      5\u001b[0m \u001b[0mget_ipython\u001b[0m\u001b[0;34m(\u001b[0m\u001b[0;34m)\u001b[0m\u001b[0;34m.\u001b[0m\u001b[0msystem\u001b[0m\u001b[0;34m(\u001b[0m\u001b[0;34m'pip install -U kora'\u001b[0m\u001b[0;34m)\u001b[0m\u001b[0;34m\u001b[0m\u001b[0;34m\u001b[0m\u001b[0m\n\u001b[1;32m      6\u001b[0m \u001b[0;32mfrom\u001b[0m \u001b[0mkora\u001b[0m\u001b[0;34m.\u001b[0m\u001b[0mdrive\u001b[0m \u001b[0;32mimport\u001b[0m \u001b[0mupload_public\u001b[0m\u001b[0;34m\u001b[0m\u001b[0;34m\u001b[0m\u001b[0m\n\u001b[0;32m----> 7\u001b[0;31m \u001b[0murl\u001b[0m \u001b[0;34m=\u001b[0m \u001b[0mupload_public\u001b[0m\u001b[0;34m(\u001b[0m\u001b[0;34m'/content/drive/MyDrive/shoplifting/testing/shoplifting/Shoplift15.mp4'\u001b[0m\u001b[0;34m)\u001b[0m\u001b[0;34m\u001b[0m\u001b[0;34m\u001b[0m\u001b[0m\n\u001b[0m\u001b[1;32m      8\u001b[0m \u001b[0;31m# then display it\u001b[0m\u001b[0;34m\u001b[0m\u001b[0;34m\u001b[0m\u001b[0;34m\u001b[0m\u001b[0m\n\u001b[1;32m      9\u001b[0m \u001b[0;32mfrom\u001b[0m \u001b[0mIPython\u001b[0m\u001b[0;34m.\u001b[0m\u001b[0mdisplay\u001b[0m \u001b[0;32mimport\u001b[0m \u001b[0mHTML\u001b[0m\u001b[0;34m\u001b[0m\u001b[0;34m\u001b[0m\u001b[0m\n",
            "\u001b[0;32m/usr/local/lib/python3.7/dist-packages/kora/drive.py\u001b[0m in \u001b[0;36mupload_public\u001b[0;34m(filename)\u001b[0m\n\u001b[1;32m     40\u001b[0m     \u001b[0;34m\"\"\" Upload the file to Google Drive and set permission to public \"\"\"\u001b[0m\u001b[0;34m\u001b[0m\u001b[0;34m\u001b[0m\u001b[0m\n\u001b[1;32m     41\u001b[0m     \u001b[0mf\u001b[0m \u001b[0;34m=\u001b[0m \u001b[0mget_file\u001b[0m\u001b[0;34m(\u001b[0m\u001b[0mbasename\u001b[0m\u001b[0;34m(\u001b[0m\u001b[0mfilename\u001b[0m\u001b[0;34m)\u001b[0m\u001b[0;34m)\u001b[0m\u001b[0;34m\u001b[0m\u001b[0;34m\u001b[0m\u001b[0m\n\u001b[0;32m---> 42\u001b[0;31m     \u001b[0mf\u001b[0m\u001b[0;34m.\u001b[0m\u001b[0mSetContentFile\u001b[0m\u001b[0;34m(\u001b[0m\u001b[0mfilename\u001b[0m\u001b[0;34m)\u001b[0m\u001b[0;34m\u001b[0m\u001b[0;34m\u001b[0m\u001b[0m\n\u001b[0m\u001b[1;32m     43\u001b[0m     \u001b[0mf\u001b[0m\u001b[0;34m.\u001b[0m\u001b[0mUpload\u001b[0m\u001b[0;34m(\u001b[0m\u001b[0;34m)\u001b[0m\u001b[0;34m\u001b[0m\u001b[0;34m\u001b[0m\u001b[0m\n\u001b[1;32m     44\u001b[0m     \u001b[0mf\u001b[0m\u001b[0;34m.\u001b[0m\u001b[0mInsertPermission\u001b[0m\u001b[0;34m(\u001b[0m\u001b[0;34m{\u001b[0m\u001b[0;34m'type'\u001b[0m\u001b[0;34m:\u001b[0m \u001b[0;34m'anyone'\u001b[0m\u001b[0;34m,\u001b[0m \u001b[0;34m'value'\u001b[0m\u001b[0;34m:\u001b[0m \u001b[0;34m'anyone'\u001b[0m\u001b[0;34m,\u001b[0m \u001b[0;34m'role'\u001b[0m\u001b[0;34m:\u001b[0m \u001b[0;34m'reader'\u001b[0m\u001b[0;34m}\u001b[0m\u001b[0;34m)\u001b[0m\u001b[0;34m\u001b[0m\u001b[0;34m\u001b[0m\u001b[0m\n",
            "\u001b[0;32m/usr/local/lib/python3.7/dist-packages/pydrive/files.py\u001b[0m in \u001b[0;36mSetContentFile\u001b[0;34m(self, filename)\u001b[0m\n\u001b[1;32m    167\u001b[0m     \u001b[0;34m:\u001b[0m\u001b[0mtype\u001b[0m \u001b[0mfilename\u001b[0m\u001b[0;34m:\u001b[0m \u001b[0mstr\u001b[0m\u001b[0;34m.\u001b[0m\u001b[0;34m\u001b[0m\u001b[0;34m\u001b[0m\u001b[0m\n\u001b[1;32m    168\u001b[0m     \"\"\"\n\u001b[0;32m--> 169\u001b[0;31m     \u001b[0mself\u001b[0m\u001b[0;34m.\u001b[0m\u001b[0mcontent\u001b[0m \u001b[0;34m=\u001b[0m \u001b[0mopen\u001b[0m\u001b[0;34m(\u001b[0m\u001b[0mfilename\u001b[0m\u001b[0;34m,\u001b[0m \u001b[0;34m'rb'\u001b[0m\u001b[0;34m)\u001b[0m\u001b[0;34m\u001b[0m\u001b[0;34m\u001b[0m\u001b[0m\n\u001b[0m\u001b[1;32m    170\u001b[0m     \u001b[0;32mif\u001b[0m \u001b[0mself\u001b[0m\u001b[0;34m.\u001b[0m\u001b[0mget\u001b[0m\u001b[0;34m(\u001b[0m\u001b[0;34m'title'\u001b[0m\u001b[0;34m)\u001b[0m \u001b[0;32mis\u001b[0m \u001b[0;32mNone\u001b[0m\u001b[0;34m:\u001b[0m\u001b[0;34m\u001b[0m\u001b[0;34m\u001b[0m\u001b[0m\n\u001b[1;32m    171\u001b[0m       \u001b[0mself\u001b[0m\u001b[0;34m[\u001b[0m\u001b[0;34m'title'\u001b[0m\u001b[0;34m]\u001b[0m \u001b[0;34m=\u001b[0m \u001b[0mfilename\u001b[0m\u001b[0;34m\u001b[0m\u001b[0;34m\u001b[0m\u001b[0m\n",
            "\u001b[0;31mFileNotFoundError\u001b[0m: [Errno 2] No such file or directory: '/content/drive/MyDrive/shoplifting/testing/shoplifting/Shoplift15.mp4'"
          ]
        }
      ],
      "source": [
        "## for short videos\n",
        "from IPython.display import HTML\n",
        "from base64 import b64encode\n",
        "## for large videos\n",
        "!pip install -U kora\n",
        "from kora.drive import upload_public\n",
        "url = upload_public('/content/drive/MyDrive/shoplifting/testing/shoplifting/Shoplift15.mp4')\n",
        "# then display it\n",
        "from IPython.display import HTML\n",
        "HTML(f\"\"\"<video src={url} width=500 controls/>\"\"\")\n"
      ],
      "id": "X4OgudI85z_h"
    },
    {
      "cell_type": "code",
      "execution_count": null,
      "metadata": {
        "id": "Gga0Hwo150CZ"
      },
      "outputs": [],
      "source": [],
      "id": "Gga0Hwo150CZ"
    },
    {
      "cell_type": "code",
      "execution_count": null,
      "metadata": {
        "id": "LZelQB0wcDob"
      },
      "outputs": [],
      "source": [],
      "id": "LZelQB0wcDob"
    }
  ],
  "metadata": {
    "accelerator": "GPU",
    "colab": {
      "collapsed_sections": [],
      "provenance": [],
      "include_colab_link": true
    },
    "gpuClass": "standard",
    "kernelspec": {
      "display_name": "Python 3 (ipykernel)",
      "language": "python",
      "name": "python3"
    },
    "language_info": {
      "codemirror_mode": {
        "name": "ipython",
        "version": 3
      },
      "file_extension": ".py",
      "mimetype": "text/x-python",
      "name": "python",
      "nbconvert_exporter": "python",
      "pygments_lexer": "ipython3",
      "version": "3.9.12"
    }
  },
  "nbformat": 4,
  "nbformat_minor": 5
}